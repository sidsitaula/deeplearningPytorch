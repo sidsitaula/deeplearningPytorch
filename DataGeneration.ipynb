{
 "cells": [
  {
   "cell_type": "code",
   "execution_count": 1,
   "id": "084faba0",
   "metadata": {},
   "outputs": [],
   "source": [
    "import numpy as np"
   ]
  },
  {
   "cell_type": "code",
   "execution_count": 77,
   "id": "14d75791",
   "metadata": {},
   "outputs": [],
   "source": [
    "b=1\n",
    "w=2\n",
    "N=100"
   ]
  },
  {
   "cell_type": "code",
   "execution_count": 93,
   "id": "e2950a21",
   "metadata": {},
   "outputs": [],
   "source": [
    "np.random.seed(42)\n",
    "x=np.random.rand(N,1)\n",
    "epsilon=(.1*np.random.randn(N,1))"
   ]
  },
  {
   "cell_type": "code",
   "execution_count": 95,
   "id": "4ce1f42a",
   "metadata": {},
   "outputs": [],
   "source": [
    "y=b+w*epsilon"
   ]
  },
  {
   "cell_type": "code",
   "execution_count": 100,
   "id": "27f2acf1",
   "metadata": {},
   "outputs": [
    {
     "name": "stdout",
     "output_type": "stream",
     "text": [
      "x: [[0.37454012]\n",
      " [0.95071431]\n",
      " [0.73199394]\n",
      " [0.59865848]\n",
      " [0.15601864]] \n",
      " y: [[1.01740941]\n",
      " [0.94019853]\n",
      " [1.01835216]\n",
      " [0.60248622]\n",
      " [0.95606562]]\n"
     ]
    }
   ],
   "source": [
    "print('x:',x[:5],'\\n','y:',y[:5])"
   ]
  },
  {
   "cell_type": "code",
   "execution_count": 110,
   "id": "b4a4d0ba",
   "metadata": {},
   "outputs": [],
   "source": [
    "idx=np.arange(N)\n",
    "np.random.seed(42)\n",
    "np.random.shuffle(idx)"
   ]
  },
  {
   "cell_type": "code",
   "execution_count": 111,
   "id": "9c6c9e9a",
   "metadata": {},
   "outputs": [],
   "source": [
    "train_idx = idx[:int(N*.8)]\n",
    "val_idx = idx[int(N*.8):]"
   ]
  },
  {
   "cell_type": "code",
   "execution_count": 112,
   "id": "3da35fcc",
   "metadata": {},
   "outputs": [],
   "source": [
    "x_train,y_train=x[train_idx], y[train_idx]\n",
    "x_val,y_val=x[val_idx], y[val_idx]"
   ]
  },
  {
   "cell_type": "code",
   "execution_count": 123,
   "id": "7a9e660a",
   "metadata": {},
   "outputs": [
    {
     "name": "stdout",
     "output_type": "stream",
     "text": [
      "x_train: [[0.06355835]\n",
      " [0.89482735]\n",
      " [0.77224477]\n",
      " [0.66252228]\n",
      " [0.25877998]]\n"
     ]
    }
   ],
   "source": [
    "print(f'x_train: {x_train[:5]}')"
   ]
  },
  {
   "cell_type": "code",
   "execution_count": null,
   "id": "7560635e",
   "metadata": {},
   "outputs": [],
   "source": []
  },
  {
   "cell_type": "code",
   "execution_count": null,
   "id": "1d90d4eb",
   "metadata": {},
   "outputs": [],
   "source": []
  },
  {
   "cell_type": "code",
   "execution_count": null,
   "id": "bd522271",
   "metadata": {},
   "outputs": [],
   "source": []
  },
  {
   "cell_type": "code",
   "execution_count": null,
   "id": "febea8bf",
   "metadata": {},
   "outputs": [],
   "source": []
  }
 ],
 "metadata": {
  "kernelspec": {
   "display_name": "Python 3 (ipykernel)",
   "language": "python",
   "name": "python3"
  },
  "language_info": {
   "codemirror_mode": {
    "name": "ipython",
    "version": 3
   },
   "file_extension": ".py",
   "mimetype": "text/x-python",
   "name": "python",
   "nbconvert_exporter": "python",
   "pygments_lexer": "ipython3",
   "version": "3.9.12"
  }
 },
 "nbformat": 4,
 "nbformat_minor": 5
}
